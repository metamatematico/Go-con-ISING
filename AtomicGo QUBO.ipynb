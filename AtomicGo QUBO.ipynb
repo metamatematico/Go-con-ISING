{
 "cells": [
  {
   "cell_type": "code",
   "execution_count": 2,
   "id": "67aa639f",
   "metadata": {},
   "outputs": [
    {
     "name": "stdout",
     "output_type": "stream",
     "text": [
      "Collecting pyqubo\n",
      "  Downloading pyqubo-1.4.0-cp36-cp36m-win_amd64.whl (409 kB)\n",
      "Collecting Deprecated>=1.2.12\n",
      "  Downloading Deprecated-1.2.14-py2.py3-none-any.whl (9.6 kB)\n",
      "Requirement already satisfied: six>=1.15.0 in c:\\users\\leonardo\\anaconda3\\envs\\ia\\lib\\site-packages (from pyqubo) (1.15.0)\n",
      "Requirement already satisfied: numpy>=1.17.3 in c:\\users\\leonardo\\anaconda3\\envs\\ia\\lib\\site-packages (from pyqubo) (1.19.2)\n",
      "Collecting dimod<0.13,>=0.9.14\n",
      "  Downloading dimod-0.10.10-cp36-cp36m-win_amd64.whl (3.7 MB)\n",
      "Collecting dwave-neal>=0.5.7\n",
      "  Downloading dwave_neal-0.5.9-cp36-cp36m-win_amd64.whl (87 kB)\n",
      "Requirement already satisfied: wrapt<2,>=1.10 in c:\\users\\leonardo\\anaconda3\\envs\\ia\\lib\\site-packages (from Deprecated>=1.2.12->pyqubo) (1.12.1)\n",
      "Requirement already satisfied: pyparsing<3.0.0,>=2.4.7 in c:\\users\\leonardo\\anaconda3\\envs\\ia\\lib\\site-packages (from dimod<0.13,>=0.9.14->pyqubo) (2.4.7)\n",
      "Installing collected packages: dimod, dwave-neal, Deprecated, pyqubo\n",
      "Successfully installed Deprecated-1.2.14 dimod-0.10.10 dwave-neal-0.5.9 pyqubo-1.4.0\n"
     ]
    }
   ],
   "source": [
    "!pip install pyqubo"
   ]
  },
  {
   "cell_type": "code",
   "execution_count": 18,
   "id": "31b4f85b",
   "metadata": {},
   "outputs": [
    {
     "name": "stdout",
     "output_type": "stream",
     "text": [
      "QUBO: {('s_1_0', 's_0_0'): -8.0, ('s_1_4', 's_1_4'): 4.0, ('s_3_2', 's_3_1'): -8.0, ('s_1_2', 's_1_2'): 8.0, ('s_2_1', 's_1_1'): -8.0, ('s_0_2', 's_0_1'): -8.0, ('s_2_2', 's_2_1'): -8.0, ('s_3_1', 's_3_1'): 8.0, ('s_4_3', 's_4_3'): 4.0, ('s_3_3', 's_3_2'): -8.0, ('s_0_1', 's_0_0'): -8.0, ('s_3_3', 's_2_3'): -8.0, ('s_2_0', 's_1_0'): -8.0, ('s_1_3', 's_1_2'): -8.0, ('s_4_3', 's_3_3'): -8.0, ('s_2_2', 's_2_2'): 8.0, ('s_4_4', 's_4_3'): -8.0, ('s_1_0', 's_1_0'): 4.0, ('s_1_4', 's_0_4'): -8.0, ('s_3_0', 's_3_0'): 4.0, ('s_4_2', 's_3_2'): -8.0, ('s_2_3', 's_1_3'): -8.0, ('s_4_4', 's_3_4'): -8.0, ('s_3_1', 's_2_1'): -8.0, ('s_3_4', 's_3_3'): -8.0, ('s_3_4', 's_2_4'): -8.0, ('s_4_1', 's_4_1'): 4.0, ('s_4_1', 's_3_1'): -8.0, ('s_1_4', 's_1_3'): -8.0, ('s_4_2', 's_4_1'): -8.0, ('s_4_3', 's_4_2'): -8.0, ('s_0_2', 's_0_2'): 4.0, ('s_3_1', 's_3_0'): -8.0, ('s_0_3', 's_0_3'): 4.0, ('s_2_4', 's_2_3'): -8.0, ('s_2_0', 's_2_0'): 4.0, ('s_3_4', 's_3_4'): 4.0, ('s_4_0', 's_3_0'): -8.0, ('s_2_2', 's_1_2'): -8.0, ('s_2_1', 's_2_0'): -8.0, ('s_2_4', 's_2_4'): 4.0, ('s_0_3', 's_0_2'): -8.0, ('s_4_2', 's_4_2'): 4.0, ('s_0_1', 's_0_1'): 4.0, ('s_3_3', 's_3_3'): 8.0, ('s_4_1', 's_4_0'): -8.0, ('s_1_2', 's_1_1'): -8.0, ('s_3_0', 's_2_0'): -8.0, ('s_0_4', 's_0_3'): -8.0, ('s_2_4', 's_1_4'): -8.0, ('s_1_1', 's_1_1'): 8.0, ('s_2_3', 's_2_3'): 8.0, ('s_3_2', 's_3_2'): 8.0, ('s_1_1', 's_1_0'): -8.0, ('s_1_3', 's_0_3'): -8.0, ('s_2_3', 's_2_2'): -8.0, ('s_3_2', 's_2_2'): -8.0, ('s_1_2', 's_0_2'): -8.0, ('s_2_1', 's_2_1'): 8.0, ('s_1_1', 's_0_1'): -8.0, ('s_1_3', 's_1_3'): 8.0}\n"
     ]
    }
   ],
   "source": [
    "from pyqubo import Spin\n",
    "\n",
    "# Parámetros del modelo\n",
    "mu = 1.0  # Supongamos que mu es 1 para este ejemplo\n",
    "\n",
    "# Tamaño del tablero, ej. 9x9 para un tablero estándar de Go pequeño\n",
    "N = 5\n",
    "\n",
    "# Crear variables de Spin para cada posición en el tablero\n",
    "spins = {(i, j): Spin(f's_{i}_{j}') for i in range(N) for j in range(N)}\n",
    "\n",
    "# Suponiendo que h_i(t) se puede calcular o se da como input. Aquí usamos un valor ficticio\n",
    "# Por ejemplo, todos tienen 4 libertades inicialmente (completamente abierto)\n",
    "h = {(i, j): 4 for i in range(N) for j in range(N)}\n",
    "\n",
    "# Construir el Hamiltoniano Ising\n",
    "H = 0\n",
    "for i in range(N):\n",
    "    for j in range(N):\n",
    "        # Añade la interacción con los vecinos si están dentro de los límites del tablero\n",
    "        if i < N-1:  # Sur\n",
    "            H -= spins[(i, j)] * spins[(i+1, j)]\n",
    "        if i > 0:  # Norte\n",
    "            H -= spins[(i, j)] * spins[(i-1, j)]\n",
    "        if j < N-1:  # Este\n",
    "            H -= spins[(i, j)] * spins[(i, j+1)]\n",
    "        if j > 0:  # Oeste\n",
    "            H -= spins[(i, j)] * spins[(i, j-1)]\n",
    "        \n",
    "        # Añadir el término de libertades\n",
    "        H -= mu * h[(i, j)] * spins[(i, j)]\n",
    "\n",
    "# Compilar el modelo\n",
    "model = H.compile()\n",
    "\n",
    "# Convertir a QUBO\n",
    "qubo, offset = model.to_qubo()\n",
    "\n",
    "# Imprimir QUBO\n",
    "print(\"QUBO:\", qubo)\n"
   ]
  },
  {
   "cell_type": "code",
   "execution_count": 22,
   "id": "d5f4af6a",
   "metadata": {},
   "outputs": [
    {
     "name": "stdout",
     "output_type": "stream",
     "text": [
      "{'s_1_1': -4.0, 's_4_4': -4.0, 's_0_0': -4.0, 's_1_0': -4.0, 's_0_1': -4.0, 's_0_2': -4.0, 's_1_2': -4.0, 's_0_3': -4.0, 's_3_4': -4.0, 's_0_4': -4.0, 's_3_3': -4.0, 's_1_3': -4.0, 's_1_4': -4.0, 's_4_1': -4.0, 's_2_0': -4.0, 's_2_1': -4.0, 's_2_2': -4.0, 's_2_3': -4.0, 's_2_4': -4.0, 's_3_0': -4.0, 's_3_1': -4.0, 's_3_2': -4.0, 's_4_0': -4.0, 's_4_2': -4.0, 's_4_3': -4.0}\n"
     ]
    }
   ],
   "source": [
    "linear, quadratic, offset = model.to_ising()\n",
    "print (linear)\n"
   ]
  },
  {
   "cell_type": "code",
   "execution_count": 23,
   "id": "682e8293",
   "metadata": {},
   "outputs": [
    {
     "name": "stdout",
     "output_type": "stream",
     "text": [
      "{('s_0_0', 's_1_0'): -2.0, ('s_0_0', 's_0_1'): -2.0, ('s_1_1', 's_1_2'): -2.0, ('s_0_1', 's_0_2'): -2.0, ('s_3_3', 's_3_4'): -2.0, ('s_0_1', 's_1_1'): -2.0, ('s_2_4', 's_3_4'): -2.0, ('s_3_4', 's_4_4'): -2.0, ('s_0_3', 's_1_3'): -2.0, ('s_0_2', 's_0_3'): -2.0, ('s_2_2', 's_3_2'): -2.0, ('s_0_2', 's_1_2'): -2.0, ('s_0_3', 's_0_4'): -2.0, ('s_0_4', 's_1_4'): -2.0, ('s_1_0', 's_1_1'): -2.0, ('s_2_2', 's_2_3'): -2.0, ('s_3_3', 's_4_3'): -2.0, ('s_1_0', 's_2_0'): -2.0, ('s_1_1', 's_2_1'): -2.0, ('s_1_2', 's_1_3'): -2.0, ('s_1_2', 's_2_2'): -2.0, ('s_1_3', 's_1_4'): -2.0, ('s_1_3', 's_2_3'): -2.0, ('s_1_4', 's_2_4'): -2.0, ('s_2_0', 's_2_1'): -2.0, ('s_2_0', 's_3_0'): -2.0, ('s_2_1', 's_2_2'): -2.0, ('s_4_3', 's_4_4'): -2.0, ('s_2_1', 's_3_1'): -2.0, ('s_2_3', 's_2_4'): -2.0, ('s_2_3', 's_3_3'): -2.0, ('s_3_0', 's_3_1'): -2.0, ('s_3_0', 's_4_0'): -2.0, ('s_3_1', 's_3_2'): -2.0, ('s_3_1', 's_4_1'): -2.0, ('s_3_2', 's_3_3'): -2.0, ('s_4_1', 's_4_2'): -2.0, ('s_3_2', 's_4_2'): -2.0, ('s_4_0', 's_4_1'): -2.0, ('s_4_2', 's_4_3'): -2.0}\n"
     ]
    }
   ],
   "source": [
    "print (quadratic)"
   ]
  },
  {
   "cell_type": "code",
   "execution_count": 24,
   "id": "42c3a85f",
   "metadata": {},
   "outputs": [
    {
     "name": "stdout",
     "output_type": "stream",
     "text": [
      "0.0\n"
     ]
    }
   ],
   "source": [
    "print (offset)"
   ]
  },
  {
   "cell_type": "code",
   "execution_count": 25,
   "id": "ac7e1e55",
   "metadata": {},
   "outputs": [],
   "source": [
    "from pyqubo import Spin"
   ]
  },
  {
   "cell_type": "code",
   "execution_count": null,
   "id": "8d17da8c",
   "metadata": {},
   "outputs": [],
   "source": []
  }
 ],
 "metadata": {
  "kernelspec": {
   "display_name": "Python 3",
   "language": "python",
   "name": "python3"
  },
  "language_info": {
   "codemirror_mode": {
    "name": "ipython",
    "version": 3
   },
   "file_extension": ".py",
   "mimetype": "text/x-python",
   "name": "python",
   "nbconvert_exporter": "python",
   "pygments_lexer": "ipython3",
   "version": "3.6.13"
  }
 },
 "nbformat": 4,
 "nbformat_minor": 5
}
